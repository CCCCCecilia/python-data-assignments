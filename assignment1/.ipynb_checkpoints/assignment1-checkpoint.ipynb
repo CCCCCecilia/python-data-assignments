{
 "cells": [
  {
   "cell_type": "code",
   "execution_count": null,
   "metadata": {},
   "outputs": [],
   "source": [
    "import requests\n",
    "from bs4 import BeautifulSoup\n",
    "import time\n",
    "import csv\n",
    "base_url = \"https://www.xiami.com/search?key=\""
   ]
  },
  {
   "cell_type": "code",
   "execution_count": null,
   "metadata": {},
   "outputs": [],
   "source": [
    "headers = {\n",
    "    'authority': 'www.xiami.com',\n",
    "    'cache-control': 'max-age=0',\n",
    "    'upgrade-insecure-requests': '1',\n",
    "    'user-agent': 'Mozilla/5.0 (Macintosh; Intel Mac OS X 10_14_0) AppleWebKit/537.36 (KHTML, like Gecko) Chrome/70.0.3538.77 Safari/537.36',\n",
    "    'accept': 'text/html,application/xhtml+xml,application/xml;q=0.9,image/webp,image/apng,*/*;q=0.8',\n",
    "    'accept-encoding': 'gzip, deflate, br',\n",
    "    'accept-language': 'zh-CN,zh;q=0.9',\n",
    "    'cookie': 'gid=154164548545184; PHPSESSID=3366038599e8126a51651882df8c106b; join_from=1zufSNtP6D010%2FjCCA; _xiamitoken=301a978ededcf778bc37949e5fb12191; _unsign_token=095abebc279a7d4b9558d8d378bbbf20; UM_distinctid=166f13b4b1ee21-0ed62f08a435d-1e396652-13c680-166f13b4b1f8e8; cna=1NNhFGAjzx0CAZ62vkePvgvJ; xm_expect_legacy=1; CNZZDATA921634=cnzz_eid%3D333370432-1541643654-null%26ntime%3D1541772724; CNZZDATA2629111=cnzz_eid%3D972414053-1541641074-null%26ntime%3D1541775040; isg=BF1daI412hmuXL4zK2Ie8octbD-X0pGpg-x7bR8idrTj1n0I58v9nCnUBor1DamE',\n",
    "}\n",
    "\n",
    "# Sometimes the host may reject the request from my application. \n",
    "# The solution is: \n",
    "# * 1）open the developer tool \n",
    "# * 2) open the web site of [xiami]:https://www.xiami.com/ \n",
    "# * 3) copy the curl of the current page into the [curl]:https://curl.trillworks.com/ \n",
    "# * 4) replace the old headers with a new one.\n",
    "\n",
    "# How to get a curl command from Chrome?\n",
    "# 1) Open the network tab in Chrome DevTools (Cmd + Opt + I)\n",
    "# 2) Control-click a request and navigate to \"Copy as cURL\".\n",
    "# 3) Paste it in the curl command box."
   ]
  },
  {
   "cell_type": "code",
   "execution_count": null,
   "metadata": {},
   "outputs": [],
   "source": [
    "def get_albums_url(singer_name):\n",
    "    r = requests.get(base_url+singer_name+\"&pos=1\",headers=headers)\n",
    "    html_str = r.text\n",
    "    soup = BeautifulSoup(html_str,\"html.parser\")\n",
    "    albums = soup.find_all(\"a\",attrs = {\"class\":\"song\"})\n",
    "    for album in albums:\n",
    "        ablum_name = album['title']\n",
    "        print(ablum_name)\n",
    "        album_url = album[\"href\"]\n",
    "        get_songs_url(\"https:\" + album_url, singer_name)   "
   ]
  },
  {
   "cell_type": "code",
   "execution_count": null,
   "metadata": {},
   "outputs": [],
   "source": [
    "def get_songs_url(album_url,singer_name):   \n",
    "    r = requests.get(album_url, headers=headers)\n",
    "    html_str = r.text\n",
    "    soup = BeautifulSoup(html_str, \"html.parser\")\n",
    "    songs_td = soup.find_all(\"td\", attrs={\"class\": \"song_name\"})    \n",
    "    for song_td in songs_td:\n",
    "        song = song_td.find(\"a\")\n",
    "        # song_name = song.text\n",
    "        # print(song_name)\n",
    "        song_url = song[\"href\"]\n",
    "        get_song_info(song_url,singer_name)"
   ]
  },
  {
   "cell_type": "code",
   "execution_count": null,
   "metadata": {},
   "outputs": [],
   "source": [
    "def get_song_info(song_url,singer_name):\n",
    "    r = requests.get(\"https://www.xiami.com\"+song_url,headers=headers)\n",
    "    html_str = r.text\n",
    "    soup = BeautifulSoup(html_str, \"html.parser\")\n",
    "    title = soup.find(\"div\",{\"id\":\"title\"}).find(\"h1\").text\n",
    "    song_infos = soup.find(\"table\",{\"id\":\"albums_info\"}).find_all(\"tr\") \n",
    "    arranger = \"\"\n",
    "    singer = \"\"  \n",
    "    writer = \"\"\n",
    "    composer = \"\"\n",
    "    for i in range(0,len(song_infos)):    \n",
    "        if i ==0:\n",
    "            album = song_infos[i].find(\"a\").text\n",
    "        elif i==1:\n",
    "            singer = song_infos[i].find(\"a\").text\n",
    "        elif i==2:\n",
    "            writer = song_infos[i].find(\"div\").text\n",
    "        elif i==3:\n",
    "            composer = song_infos[i].find(\"div\").text\n",
    "        elif i==4:\n",
    "            arranger = song_infos[i].find(\"div\").text\n",
    "    try:\n",
    "        lyric = soup.find(\"div\",{\"class\":\"lrc_main\"}).text.replace(\"<br>\",\" \")\n",
    "    except Exception as e:\n",
    "        return\n",
    "    music_count = soup.find(\"div\", {\"class\": \"music_counts\"}).text.split(\"\\n\")\n",
    "    share_num = music_count[3][:-2]\n",
    "    comm_num = music_count[4][:-2]\n",
    "    content = [title, album, lyric, singer, writer, composer, arranger, share_num, comm_num]\n",
    "    print(content)\n",
    "    with open(singer_name+'.csv', 'a', newline='',encoding=\"utf-8\") as csvfile:\n",
    "        mywriter = csv.writer(csvfile)\n",
    "\n",
    "        mywriter.writerow(content)"
   ]
  },
  {
   "cell_type": "code",
   "execution_count": null,
   "metadata": {},
   "outputs": [],
   "source": [
    "def main():\n",
    "    singers_name = ['周杰伦' , \"陈奕迅\" , '林俊杰' , '林宥嘉']\n",
    "    for singer_name in singers_name:\n",
    "        with open(singer_name+'.csv', 'w', newline='',encoding=\"utf-8\") as csvfile:\n",
    "            mywriter = csv.writer(csvfile)\n",
    "            header = [\"歌名\", \"专辑名\",\"歌词\", \"演唱\", \"作词\", \"作曲\", \"编曲\",\"分享数\",\"评论数\"]\n",
    "            mywriter.writerow(header)\n",
    "        print(singer_name)\n",
    "        get_albums_url(singer_name)\n"
   ]
  },
  {
   "cell_type": "code",
   "execution_count": null,
   "metadata": {},
   "outputs": [],
   "source": [
    "main()"
   ]
  }
 ],
 "metadata": {
  "kernelspec": {
   "display_name": "Python 3",
   "language": "python",
   "name": "python3"
  },
  "language_info": {
   "codemirror_mode": {
    "name": "ipython",
    "version": 3
   },
   "file_extension": ".py",
   "mimetype": "text/x-python",
   "name": "python",
   "nbconvert_exporter": "python",
   "pygments_lexer": "ipython3",
   "version": "3.7.0"
  }
 },
 "nbformat": 4,
 "nbformat_minor": 2
}
